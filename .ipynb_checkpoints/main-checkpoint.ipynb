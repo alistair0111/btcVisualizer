{
 "cells": [
  {
   "cell_type": "code",
   "execution_count": 1,
   "id": "dd535b7f",
   "metadata": {},
   "outputs": [],
   "source": [
    "import os\n",
    "import numpy as np\n",
    "import pandas as pd\n",
    "import pickle\n",
    "import quandl"
   ]
  },
  {
   "cell_type": "code",
   "execution_count": 2,
   "id": "c24b7af8",
   "metadata": {},
   "outputs": [],
   "source": [
    "quandl.ApiConfig.api_key = 'iutpkzvKwvZTzY3Zwzys'"
   ]
  },
  {
   "cell_type": "code",
   "execution_count": 3,
   "id": "7ba39864",
   "metadata": {},
   "outputs": [],
   "source": [
    "def get_quandl_data(quandl_code):\n",
    "    cache_path = '{}.pkl'.format(quandl_code).replace('/','-')\n",
    "    try:\n",
    "        f = open(cache_path, 'rb')\n",
    "        df = pickle.load(f)\n",
    "        print('Loaded {} from cache'.format(quandl_code))\n",
    "    except Exception as e:       \n",
    "        df = quandl.get(quandl_code, returns='pandas')\n",
    "        df.to_pickle(cache_path)\n",
    "        print('Cached {} from {}'.format(quandl_code, cache_path))\n",
    "    return df"
   ]
  },
  {
   "cell_type": "code",
   "execution_count": 4,
   "id": "553f4d78",
   "metadata": {},
   "outputs": [
    {
     "name": "stdout",
     "output_type": "stream",
     "text": [
      "Cached BCHARTS/KRAKENUSD from BCHARTS-KRAKENUSD.pkl\n"
     ]
    }
   ],
   "source": [
    "btc_usd_kraken = get_quandl_data(\"BCHARTS/KRAKENUSD\")"
   ]
  },
  {
   "cell_type": "code",
   "execution_count": null,
   "id": "c3cf096e",
   "metadata": {},
   "outputs": [],
   "source": []
  }
 ],
 "metadata": {
  "kernelspec": {
   "display_name": "Python 3",
   "language": "python",
   "name": "python3"
  },
  "language_info": {
   "codemirror_mode": {
    "name": "ipython",
    "version": 3
   },
   "file_extension": ".py",
   "mimetype": "text/x-python",
   "name": "python",
   "nbconvert_exporter": "python",
   "pygments_lexer": "ipython3",
   "version": "3.9.1"
  }
 },
 "nbformat": 4,
 "nbformat_minor": 5
}
