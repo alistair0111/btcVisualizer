{
 "cells": [
  {
   "cell_type": "code",
   "execution_count": 5,
   "id": "e3383283",
   "metadata": {},
   "outputs": [
    {
     "output_type": "display_data",
     "data": {
      "text/html": "        <script type=\"text/javascript\">\n        window.PlotlyConfig = {MathJaxConfig: 'local'};\n        if (window.MathJax) {MathJax.Hub.Config({SVG: {font: \"STIX-Web\"}});}\n        if (typeof require !== 'undefined') {\n        require.undef(\"plotly\");\n        requirejs.config({\n            paths: {\n                'plotly': ['https://cdn.plot.ly/plotly-latest.min']\n            }\n        });\n        require(['plotly'], function(Plotly) {\n            window._Plotly = Plotly;\n        });\n        }\n        </script>\n        "
     },
     "metadata": {}
    }
   ],
   "source": [
    "import os\n",
    "import numpy as np\n",
    "import pandas as pd\n",
    "import pickle\n",
    "import quandl\n",
    "\n",
    "import plotly.offline as py\n",
    "import plotly.graph_objs as go\n",
    "py.init_notebook_mode(connected=True)"
   ]
  },
  {
   "cell_type": "code",
   "execution_count": 6,
   "id": "3d42fecb",
   "metadata": {},
   "outputs": [],
   "source": [
    "quandl.ApiConfig.api_key = 'iutpkzvKwvZTzY3Zwzys'"
   ]
  },
  {
   "cell_type": "code",
   "execution_count": 7,
   "id": "db1f7594",
   "metadata": {},
   "outputs": [],
   "source": [
    "def get_quandl_data(quandl_code):\n",
    "    cache_path = '{}.pkl'.format(quandl_code).replace('/','-')\n",
    "    try:\n",
    "        f = open(cache_path, 'rb')\n",
    "        df = pickle.load(f)\n",
    "        print('Loaded {} from cache'.format(quandl_code))\n",
    "    except Exception as e:       \n",
    "        df = quandl.get(quandl_code, returns='pandas')\n",
    "        df.to_pickle(cache_path)\n",
    "        print('Cached {} at {}'.format(quandl_code, cache_path))\n",
    "    return df"
   ]
  },
  {
   "cell_type": "code",
   "execution_count": 8,
   "id": "560819c0",
   "metadata": {},
   "outputs": [
    {
     "output_type": "stream",
     "name": "stdout",
     "text": [
      "Loaded BCHARTS/KRAKENUSD from cache\n"
     ]
    }
   ],
   "source": [
    "btc_usd_kraken = get_quandl_data(\"BCHARTS/KRAKENUSD\")"
   ]
  },
  {
   "cell_type": "code",
   "execution_count": null,
   "id": "3305524b",
   "metadata": {},
   "outputs": [],
   "source": []
  }
 ],
 "metadata": {
  "kernelspec": {
   "name": "python391jvsc74a57bd04fa556aa7530a287ea999c87fc2647f9687d24fc59cec98d2e68a633fe06366d",
   "display_name": "Python 3.9.1 64-bit"
  },
  "language_info": {
   "codemirror_mode": {
    "name": "ipython",
    "version": 3
   },
   "file_extension": ".py",
   "mimetype": "text/x-python",
   "name": "python",
   "nbconvert_exporter": "python",
   "pygments_lexer": "ipython3",
   "version": "3.9.1"
  },
  "metadata": {
   "interpreter": {
    "hash": "4fa556aa7530a287ea999c87fc2647f9687d24fc59cec98d2e68a633fe06366d"
   }
  }
 },
 "nbformat": 4,
 "nbformat_minor": 5
}